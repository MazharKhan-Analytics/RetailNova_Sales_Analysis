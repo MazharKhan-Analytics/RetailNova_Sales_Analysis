{
 "cells": [
  {
   "cell_type": "code",
   "execution_count": 13,
   "id": "2480df54-17a2-4e91-9659-1fe3c2c6207a",
   "metadata": {},
   "outputs": [],
   "source": [
    "import pandas as pd\n",
    "\n",
    "# Load raw CSV files (update file names if different)\n",
    "stores = pd.read_csv(r\"C:\\Users\\hp\\Desktop\\Project Works and Files\\Retail_Sales_Capstone\\DATA\\Raw Data\\stores.csv\")\n",
    "products = pd.read_csv(r\"C:\\Users\\hp\\Desktop\\Project Works and Files\\Retail_Sales_Capstone\\DATA\\Raw Data\\products.csv\")\n",
    "sales = pd.read_csv(r\"C:\\Users\\hp\\Desktop\\Project Works and Files\\Retail_Sales_Capstone\\DATA\\Raw Data\\sales_data.csv\")\n",
    "customers = pd.read_csv(r\"C:\\Users\\hp\\Desktop\\Project Works and Files\\Retail_Sales_Capstone\\DATA\\Raw Data\\customers.csv\")\n",
    "returns = pd.read_csv(r\"C:\\Users\\hp\\Desktop\\Project Works and Files\\Retail_Sales_Capstone\\DATA\\Raw Data\\returns.csv\")"
   ]
  },
  {
   "cell_type": "code",
   "execution_count": 17,
   "id": "9c9e8f3a-44c4-413e-8d71-37b4d3c06ad6",
   "metadata": {},
   "outputs": [
    {
     "name": "stdout",
     "output_type": "stream",
     "text": [
      "<class 'pandas.core.frame.DataFrame'>\n",
      "RangeIndex: 1200 entries, 0 to 1199\n",
      "Data columns (total 7 columns):\n",
      " #   Column        Non-Null Count  Dtype  \n",
      "---  ------        --------------  -----  \n",
      " 0   product_id    1200 non-null   object \n",
      " 1   product_name  1200 non-null   object \n",
      " 2   category      1200 non-null   object \n",
      " 3   brand         1200 non-null   object \n",
      " 4   cost_price    1200 non-null   float64\n",
      " 5   unit_price    1200 non-null   float64\n",
      " 6   margin_pct    1200 non-null   float64\n",
      "dtypes: float64(3), object(4)\n",
      "memory usage: 65.8+ KB\n",
      "None\n",
      "  product_id           product_name     category   brand  cost_price  \\\n",
      "0      P0000        BrandA Shoulder  Electronics  BrandC       52.75   \n",
      "1      P0001  BrandA Responsibility  Electronics  BrandD       11.20   \n",
      "2      P0002           BrandB Small  Electronics  BrandB      144.62   \n",
      "3      P0003        BrandD Continue      Apparel  BrandD      119.91   \n",
      "4      P0004          BrandA Indeed      Apparel  BrandD       71.35   \n",
      "\n",
      "   unit_price  margin_pct  \n",
      "0       64.65       18.41  \n",
      "1       13.26       15.54  \n",
      "2      250.37       42.24  \n",
      "3      219.25       45.31  \n",
      "4       88.47       19.35  \n"
     ]
    }
   ],
   "source": [
    "# Cleaning products table\n",
    "import pandas as pd\n",
    "\n",
    "# Load\n",
    "products = pd.read_csv(r\"C:\\Users\\hp\\Desktop\\Project Works and Files\\Retail_Sales_Capstone\\DATA\\Raw Data\\products.csv\")\n",
    "\n",
    "# 1. Handle missing values\n",
    "products['brand'] = products['brand'].fillna('Unknown')\n",
    "\n",
    "# 2. Standardize column data types\n",
    "products['product_id'] = products['product_id'].astype(str)\n",
    "products['product_name'] = products['product_name'].astype(str)\n",
    "products['category'] = products['category'].astype(str)\n",
    "products['brand'] = products['brand'].astype(str)\n",
    "\n",
    "# Ensure numeric columns are numeric\n",
    "products['cost_price'] = pd.to_numeric(products['cost_price'], errors='coerce')\n",
    "products['unit_price'] = pd.to_numeric(products['unit_price'], errors='coerce')\n",
    "products['margin_pct'] = pd.to_numeric(products['margin_pct'], errors='coerce')\n",
    "\n",
    "# 3. Remove leading/trailing spaces\n",
    "products['product_name'] = products['product_name'].str.strip()\n",
    "products['category'] = products['category'].str.strip()\n",
    "products['brand'] = products['brand'].str.strip()\n",
    "\n",
    "# 4. Drop duplicates\n",
    "products = products.drop_duplicates()\n",
    "\n",
    "# 5. Reset index\n",
    "products = products.reset_index(drop=True)\n",
    "\n",
    "print(products.info())\n",
    "print(products.head())"
   ]
  },
  {
   "cell_type": "code",
   "execution_count": 19,
   "id": "901bf7da-61f0-42bc-b4a1-9ee4f4343bcb",
   "metadata": {},
   "outputs": [
    {
     "name": "stdout",
     "output_type": "stream",
     "text": [
      "Products cleaned ✅\n",
      "<class 'pandas.core.frame.DataFrame'>\n",
      "RangeIndex: 1200 entries, 0 to 1199\n",
      "Data columns (total 7 columns):\n",
      " #   Column        Non-Null Count  Dtype  \n",
      "---  ------        --------------  -----  \n",
      " 0   product_id    1200 non-null   object \n",
      " 1   product_name  1200 non-null   object \n",
      " 2   category      1200 non-null   object \n",
      " 3   brand         1200 non-null   object \n",
      " 4   cost_price    1200 non-null   float64\n",
      " 5   unit_price    1200 non-null   float64\n",
      " 6   margin_pct    1200 non-null   float64\n",
      "dtypes: float64(3), object(4)\n",
      "memory usage: 65.8+ KB\n",
      "None\n",
      "  product_id           product_name     category   brand  cost_price  \\\n",
      "0      P0000        Branda Shoulder  Electronics  Brandc       52.75   \n",
      "1      P0001  Branda Responsibility  Electronics  Brandd       11.20   \n",
      "2      P0002           Brandb Small  Electronics  Brandb      144.62   \n",
      "3      P0003        Brandd Continue      Apparel  Brandd      119.91   \n",
      "4      P0004          Branda Indeed      Apparel  Brandd       71.35   \n",
      "\n",
      "   unit_price  margin_pct  \n",
      "0       64.65       18.41  \n",
      "1       13.26       15.54  \n",
      "2      250.37       42.24  \n",
      "3      219.25       45.31  \n",
      "4       88.47       19.35  \n"
     ]
    }
   ],
   "source": [
    "# Final Products Cleaning\n",
    "\n",
    "# 1. Strip spaces and standardize case\n",
    "products['product_name'] = products['product_name'].str.strip().str.title()\n",
    "products['category'] = products['category'].str.strip().str.title()\n",
    "products['brand'] = products['brand'].str.strip().str.title()\n",
    "\n",
    "# 2. Remove duplicates\n",
    "products = products.drop_duplicates(subset=['product_id'])\n",
    "\n",
    "# 3. Check for invalid prices (negative or zero)\n",
    "products = products[(products['cost_price'] > 0) & (products['unit_price'] > 0)]\n",
    "\n",
    "# 4. Reset index\n",
    "products = products.reset_index(drop=True)\n",
    "\n",
    "print(\"Products cleaned ✅\")\n",
    "print(products.info())\n",
    "print(products.head())\n"
   ]
  },
  {
   "cell_type": "code",
   "execution_count": 23,
   "id": "c0a30b6b-5f37-40c5-9368-1c82621c1b1e",
   "metadata": {},
   "outputs": [
    {
     "name": "stdout",
     "output_type": "stream",
     "text": [
      "Total mismatch in amounts: 76208.49\n",
      "✅ Sales cleaned\n",
      "<class 'pandas.core.frame.DataFrame'>\n",
      "Index: 3000 entries, 0 to 2999\n",
      "Data columns (total 10 columns):\n",
      " #   Column         Non-Null Count  Dtype         \n",
      "---  ------         --------------  -----         \n",
      " 0   order_id       3000 non-null   object        \n",
      " 1   order_date     3000 non-null   datetime64[ns]\n",
      " 2   customer_id    3000 non-null   object        \n",
      " 3   product_id     3000 non-null   object        \n",
      " 4   store_id       3000 non-null   object        \n",
      " 5   sales_channel  3000 non-null   object        \n",
      " 6   quantity       3000 non-null   int32         \n",
      " 7   unit_price     3000 non-null   float64       \n",
      " 8   discount_pct   3000 non-null   float64       \n",
      " 9   total_amount   3000 non-null   float64       \n",
      "dtypes: datetime64[ns](1), float64(3), int32(1), object(5)\n",
      "memory usage: 246.1+ KB\n",
      "None\n",
      "  order_id order_date customer_id product_id store_id sales_channel  quantity  \\\n",
      "0   O00000 2024-01-31       C0125      P1086  Unknown        Online         2   \n",
      "1   O00001 2024-09-29       C0633      P0973     S042      In-Store        20   \n",
      "2   O00002 2023-08-29       C0653      P0659  Unknown        Online         2   \n",
      "3   O00003 2024-05-13       C0753      P0666     S014      In-Store         1   \n",
      "4   O00004 2024-07-22       C0627      P0166     S017      In-Store         1   \n",
      "\n",
      "   unit_price  discount_pct  total_amount  \n",
      "0       80.63          0.05        153.20  \n",
      "1      209.16          0.05       3974.00  \n",
      "2      218.60          0.10        393.48  \n",
      "3       78.53          0.20         62.82  \n",
      "4      344.93          0.20        275.94  \n"
     ]
    }
   ],
   "source": [
    "# 🔹 Clean Sales Table\n",
    "# 1. Handle missing store_id\n",
    "sales['store_id'] = sales['store_id'].fillna(\"Unknown\")\n",
    "\n",
    "# 2. Ensure correct datatypes\n",
    "sales['order_id'] = sales['order_id'].astype(str)\n",
    "sales['customer_id'] = sales['customer_id'].astype(str)\n",
    "sales['product_id'] = sales['product_id'].astype(str)\n",
    "sales['store_id'] = sales['store_id'].astype(str)\n",
    "sales['sales_channel'] = sales['sales_channel'].astype(str)\n",
    "\n",
    "sales['order_date'] = pd.to_datetime(sales['order_date'])\n",
    "sales['quantity'] = sales['quantity'].astype(int)\n",
    "sales['unit_price'] = sales['unit_price'].astype(float)\n",
    "sales['discount_pct'] = sales['discount_pct'].astype(float)\n",
    "sales['total_amount'] = sales['total_amount'].astype(float)\n",
    "\n",
    "# 3. Remove leading/trailing spaces in categorical columns\n",
    "for col in ['sales_channel', 'store_id']:\n",
    "    sales[col] = sales[col].str.strip().str.title()\n",
    "\n",
    "# 4. Sanity check: ensure total_amount = quantity * unit_price * (1 - discount_pct/100)\n",
    "sales['calculated_amount'] = sales['quantity'] * sales['unit_price'] * (1 - sales['discount_pct']/100)\n",
    "\n",
    "# Compare with total_amount\n",
    "diff = (sales['total_amount'] - sales['calculated_amount']).abs().sum()\n",
    "print(f\"Total mismatch in amounts: {diff:.2f}\")\n",
    "\n",
    "# Drop helper column\n",
    "sales.drop(columns=['calculated_amount'], inplace=True)\n",
    "\n",
    "print(\"✅ Sales cleaned\")\n",
    "print(sales.info())\n",
    "print(sales.head())"
   ]
  },
  {
   "cell_type": "code",
   "execution_count": 27,
   "id": "899d5caa-0a68-4944-b765-d415c7945cb8",
   "metadata": {},
   "outputs": [
    {
     "name": "stdout",
     "output_type": "stream",
     "text": [
      "customer_id     0\n",
      "first_name      0\n",
      "last_name       0\n",
      "gender          0\n",
      "age            40\n",
      "signup_date     0\n",
      "region          0\n",
      "dtype: int64\n",
      "✅ Customers cleaned\n",
      "<class 'pandas.core.frame.DataFrame'>\n",
      "Index: 800 entries, 0 to 799\n",
      "Data columns (total 7 columns):\n",
      " #   Column       Non-Null Count  Dtype         \n",
      "---  ------       --------------  -----         \n",
      " 0   customer_id  800 non-null    object        \n",
      " 1   first_name   800 non-null    object        \n",
      " 2   last_name    800 non-null    object        \n",
      " 3   gender       800 non-null    object        \n",
      " 4   age          800 non-null    int32         \n",
      " 5   signup_date  800 non-null    datetime64[ns]\n",
      " 6   region       800 non-null    object        \n",
      "dtypes: datetime64[ns](1), int32(1), object(5)\n",
      "memory usage: 46.9+ KB\n",
      "None\n",
      "  customer_id first_name last_name  gender  age signup_date region\n",
      "0       C0000    Patrick    Morgan    Male   18  2024-07-11  South\n",
      "1       C0001       Eric       Lee   Other   36  2020-09-20   East\n",
      "2       C0002     Thomas      Pena  Female   44  2021-03-07   East\n",
      "3       C0003     Dalton     Duran    Male   24  2021-08-29  South\n",
      "4       C0004     Travis   Mcclain    Male   50  2023-03-29  South\n"
     ]
    }
   ],
   "source": [
    "# 🔹 Clean Customers Table\n",
    "# 1. Check missing values\n",
    "print(customers.isna().sum())\n",
    "\n",
    "# 2. Convert datatypes & standardize\n",
    "customers['customer_id'] = customers['customer_id'].astype(str)\n",
    "\n",
    "# Fix names (strip spaces + title case)\n",
    "customers['first_name'] = customers['first_name'].astype(str).str.strip().str.title()\n",
    "customers['last_name'] = customers['last_name'].astype(str).str.strip().str.title()\n",
    "\n",
    "# Fix gender\n",
    "customers['gender'] = customers['gender'].astype(str).str.strip().str.title()\n",
    "customers['gender'] = customers['gender'].replace({\n",
    "    'M': 'Male',\n",
    "    'F': 'Female',\n",
    "    'Other': 'Other'\n",
    "})\n",
    "\n",
    "# Fix age (fill missing & unrealistic)\n",
    "customers['age'] = pd.to_numeric(customers['age'], errors='coerce')\n",
    "customers['age'] = customers['age'].fillna(customers['age'].median())\n",
    "customers.loc[(customers['age'] < 0) | (customers['age'] > 100), 'age'] = customers['age'].median()\n",
    "customers['age'] = customers['age'].astype(int)\n",
    "\n",
    "# Convert signup_date\n",
    "customers['signup_date'] = pd.to_datetime(customers['signup_date'])\n",
    "\n",
    "# Fix region (clean text)\n",
    "customers['region'] = customers['region'].astype(str).str.strip().str.title()\n",
    "\n",
    "# 3. Drop duplicates\n",
    "customers = customers.drop_duplicates(subset=['customer_id'])\n",
    "\n",
    "print(\"✅ Customers cleaned\")\n",
    "print(customers.info())\n",
    "print(customers.head())"
   ]
  },
  {
   "cell_type": "code",
   "execution_count": 39,
   "id": "27d5870b-89b3-4489-bbd9-321155bc6d17",
   "metadata": {},
   "outputs": [
    {
     "name": "stdout",
     "output_type": "stream",
     "text": [
      "return_id        0\n",
      "order_id         0\n",
      "return_date      0\n",
      "return_reason    0\n",
      "dtype: int64\n",
      "✅ Returns cleaned\n",
      "<class 'pandas.core.frame.DataFrame'>\n",
      "Index: 200 entries, 0 to 199\n",
      "Data columns (total 4 columns):\n",
      " #   Column         Non-Null Count  Dtype         \n",
      "---  ------         --------------  -----         \n",
      " 0   return_id      200 non-null    object        \n",
      " 1   order_id       200 non-null    object        \n",
      " 2   return_date    200 non-null    datetime64[ns]\n",
      " 3   return_reason  200 non-null    object        \n",
      "dtypes: datetime64[ns](1), object(3)\n",
      "memory usage: 7.8+ KB\n",
      "None\n",
      "  return_id order_id return_date     return_reason\n",
      "0     R0000   O02237  2024-03-05         Defective\n",
      "1     R0001   O01700  2025-03-18         Defective\n",
      "2     R0002   O01451  2025-02-18     Late Delivery\n",
      "3     R0003   O02759  2023-10-26         Defective\n",
      "4     R0004   O00415  2024-08-06  No Longer Needed\n"
     ]
    }
   ],
   "source": [
    "# Load returns data\n",
    "returns = pd.read_csv(r\"C:\\Users\\hp\\Desktop\\Project Works and Files\\Retail_Sales_Capstone\\DATA\\Raw Data\\returns.csv\")\n",
    "\n",
    "# 1. Check missing values\n",
    "print(returns.isnull().sum())\n",
    "\n",
    "# 2. Remove duplicates\n",
    "returns.drop_duplicates(inplace=True)\n",
    "\n",
    "# 3. Clean Returns dataset\n",
    "returns['return_id'] = returns['return_id'].astype(str)\n",
    "returns['order_id'] = returns['order_id'].astype(str)\n",
    "returns['return_date'] = pd.to_datetime(returns['return_date'])\n",
    "\n",
    "# Clean return_reason safely: strip spaces, title case, fill missing\n",
    "returns['return_reason'] = returns['return_reason'].str.strip().str.title().fillna('Unknown')\n",
    "\n",
    "print(\"✅ Returns cleaned\")\n",
    "print(returns.info())\n",
    "print(returns.head())\n"
   ]
  },
  {
   "cell_type": "code",
   "execution_count": 43,
   "id": "8c0dc583-5112-4191-b73c-2a18f5ae12f9",
   "metadata": {},
   "outputs": [
    {
     "name": "stdout",
     "output_type": "stream",
     "text": [
      "store_id          0\n",
      "store_name        0\n",
      "store_type        0\n",
      "region            0\n",
      "city              0\n",
      "operating_cost    0\n",
      "dtype: int64\n",
      "✅ Stores cleaned\n",
      "<class 'pandas.core.frame.DataFrame'>\n",
      "Index: 60 entries, 0 to 59\n",
      "Data columns (total 6 columns):\n",
      " #   Column          Non-Null Count  Dtype  \n",
      "---  ------          --------------  -----  \n",
      " 0   store_id        60 non-null     object \n",
      " 1   store_name      60 non-null     object \n",
      " 2   store_type      60 non-null     object \n",
      " 3   region          60 non-null     object \n",
      " 4   city            60 non-null     object \n",
      " 5   operating_cost  60 non-null     float64\n",
      "dtypes: float64(1), object(5)\n",
      "memory usage: 3.3+ KB\n",
      "None\n",
      "  store_id                 store_name store_type region         city  \\\n",
      "0     S000          Vincent Inc Store  Franchise   West      Chicago   \n",
      "1     S001           Wilson Inc Store   Flagship   East      Chicago   \n",
      "2     S002  Washington-Trujillo Store  Franchise  North  Los Angeles   \n",
      "3     S003     Santana and Sons Store  Franchise  South      Phoenix   \n",
      "4     S004       Oconnor-Rhodes Store  Franchise   East  Los Angeles   \n",
      "\n",
      "   operating_cost  \n",
      "0        62538.56  \n",
      "1        26957.43  \n",
      "2        66101.63  \n",
      "3        71089.40  \n",
      "4        40965.26  \n"
     ]
    }
   ],
   "source": [
    "# Load stores data\n",
    "stores = pd.read_csv(r\"C:\\Users\\hp\\Desktop\\Project Works and Files\\Retail_Sales_Capstone\\DATA\\Raw Data\\stores.csv\")\n",
    "\n",
    "# 1. Check missing values\n",
    "print(stores.isnull().sum())\n",
    "\n",
    "# 2. Remove duplicates\n",
    "stores = stores.drop_duplicates()\n",
    "\n",
    "# 3. Correct data types\n",
    "stores['store_id'] = stores['store_id'].astype(str)\n",
    "stores['store_name'] = stores['store_name'].astype(str)\n",
    "stores['store_type'] = stores['store_type'].astype(str)\n",
    "stores['region'] = stores['region'].astype(str)\n",
    "stores['city'] = stores['city'].astype(str)\n",
    "stores['operating_cost'] = stores['operating_cost'].astype(float)\n",
    "\n",
    "# 4. Remove leading/trailing spaces\n",
    "for col in ['store_name', 'store_type', 'region', 'city']:\n",
    "    stores[col] = stores[col].str.strip()\n",
    "\n",
    "# 5. Handle missing values safely\n",
    "stores['store_type'] = stores['store_type'].fillna('Unknown')\n",
    "stores['operating_cost'] = stores['operating_cost'].fillna(stores['operating_cost'].median())\n",
    "\n",
    "print(\"✅ Stores cleaned\")\n",
    "print(stores.info())\n",
    "print(stores.head())\n"
   ]
  },
  {
   "cell_type": "code",
   "execution_count": 62,
   "id": "df486f6c-cabc-4454-ab93-f84a192408e6",
   "metadata": {},
   "outputs": [
    {
     "name": "stdout",
     "output_type": "stream",
     "text": [
      "✅ All cleaned tables saved successfully in the 'cleaned' folder.\n"
     ]
    }
   ],
   "source": [
    "# Save cleaned tables into CSVs\n",
    "sales.to_csv(r\"C:\\Users\\hp\\Desktop\\Project Works and Files\\Retail_Sales_Capstone\\DATA\\Cleaned\\sales_cleaned.csv\", index=False)\n",
    "customers.to_csv(r\"C:\\Users\\hp\\Desktop\\Project Works and Files\\Retail_Sales_Capstone\\DATA\\Cleaned\\customers_cleaned.csv\", index=False)\n",
    "products.to_csv(r\"C:\\Users\\hp\\Desktop\\Project Works and Files\\Retail_Sales_Capstone\\DATA\\Cleaned\\products_cleaned.csv\", index=False)\n",
    "stores.to_csv(r\"C:\\Users\\hp\\Desktop\\Project Works and Files\\Retail_Sales_Capstone\\DATA\\Cleaned\\stores_cleaned.csv\", index=False)\n",
    "returns.to_csv(r\"C:\\Users\\hp\\Desktop\\Project Works and Files\\Retail_Sales_Capstone\\DATA\\Cleaned\\returns_cleaned.csv\", index=False)\n",
    "\n",
    "print(\"✅ All cleaned tables saved successfully in the 'cleaned' folder.\")"
   ]
  },
  {
   "cell_type": "code",
   "execution_count": 56,
   "id": "c8894539-27c9-4dc9-8ef8-24941b5c0cf0",
   "metadata": {},
   "outputs": [
    {
     "data": {
      "text/plain": [
       "<Axes: title={'center': 'Monthly Revenue Trend'}, xlabel='order_date'>"
      ]
     },
     "execution_count": 56,
     "metadata": {},
     "output_type": "execute_result"
    },
    {
     "data": {
      "image/png": "[encoded data removed]",
      "text/plain": [
       "<Figure size 640x480 with 1 Axes>"
      ]
     },
     "metadata": {},
     "output_type": "display_data"
    }
   ],
   "source": [
    "# Revenue trend\n",
    "sales.groupby(sales['order_date'].dt.to_period('M'))['total_amount'].sum().plot(kind='line', title=\"Monthly Revenue Trend\")"
   ]
  },
  {
   "cell_type": "code",
   "execution_count": 58,
   "id": "b9af1d7b-156f-4f13-8ca5-f77d4a934c20",
   "metadata": {},
   "outputs": [
    {
     "name": "stdout",
     "output_type": "stream",
     "text": [
      "product_id\n",
      "P0820    40\n",
      "P0053    33\n",
      "P0336    33\n",
      "P0874    32\n",
      "P1123    27\n",
      "Name: quantity, dtype: int32\n"
     ]
    }
   ],
   "source": [
    "# Top products\n",
    "top_products = sales.groupby('product_id')['quantity'].sum().nlargest(5)\n",
    "print(top_products)"
   ]
  },
  {
   "cell_type": "code",
   "execution_count": 60,
   "id": "037d63f0-d347-4f52-a2ac-7ea288164bcf",
   "metadata": {},
   "outputs": [
    {
     "name": "stdout",
     "output_type": "stream",
     "text": [
      "sales_channel\n",
      "In-Store    2092\n",
      "Online       908\n",
      "Name: count, dtype: int64\n"
     ]
    }
   ],
   "source": [
    "# Online vs Store\n",
    "print(sales['sales_channel'].value_counts())"
   ]
  },
  {
   "cell_type": "code",
   "execution_count": 48,
   "id": "c365bcc1-a39d-4ba0-a60a-dcd42767cc06",
   "metadata": {},
   "outputs": [
    {
     "data": {
      "image/png": "[encoded data removed]",
      "text/plain": [
       "<Figure size 640x480 with 1 Axes>"
      ]
     },
     "metadata": {},
     "output_type": "display_data"
    }
   ],
   "source": [
    "#Customers Table\n",
    "#.Gender distribution\n",
    "#Age distribution (histogram)\n",
    "#Region-wise customer count\n",
    "\n",
    "Customer tenure (today - signup_date)\n",
    "customers['age'].hist(bins=20)\n",
    "customers['region'].value_counts().plot(kind='bar')\n",
    "customers['tenure_days'] = (pd.to_datetime(\"today\") - customers['signup_date']).dt.days\n"
   ]
  },
  {
   "cell_type": "code",
   "execution_count": 50,
   "id": "c30f390d-7f24-4fac-b10a-174ad40cf2b8",
   "metadata": {},
   "outputs": [
    {
     "data": {
      "text/plain": [
       "<Axes: xlabel='category'>"
      ]
     },
     "execution_count": 50,
     "metadata": {},
     "output_type": "execute_result"
    },
    {
     "data": {
      "image/png": "[encoded data removed]",
      "text/plain": [
       "<Figure size 640x480 with 1 Axes>"
      ]
     },
     "metadata": {},
     "output_type": "display_data"
    }
   ],
   "source": [
    "#Prodcut table \n",
    "#Most profitable categories (using margin%)\n",
    "#Cost vs Price distribution\n",
    "#Brand analysis (top-selling brands)\n",
    "\n",
    "products.groupby('category')['margin_pct'].mean().plot(kind='bar')"
   ]
  },
  {
   "cell_type": "code",
   "execution_count": 52,
   "id": "1afb7abc-15b8-4d5c-a3f5-f0bec3b66f2f",
   "metadata": {},
   "outputs": [
    {
     "data": {
      "text/plain": [
       "<Axes: xlabel='store_type'>"
      ]
     },
     "execution_count": 52,
     "metadata": {},
     "output_type": "execute_result"
    },
    {
     "data": {
      "image/png": "[encoded data removed]",
      "text/plain": [
       "<Figure size 640x480 with 1 Axes>"
      ]
     },
     "metadata": {},
     "output_type": "display_data"
    }
   ],
   "source": [
    "#Stores Tables\n",
    "#Operating cost distribution\n",
    "#Stores by region/city\n",
    "#Compare store types (Franchise vs Flagship vs Mall Kiosk)\n",
    "\n",
    "stores['operating_cost'].hist()\n",
    "stores['store_type'].value_counts().plot(kind='bar')\n"
   ]
  },
  {
   "cell_type": "code",
   "execution_count": 54,
   "id": "b1759a26-4d50-4855-8caf-2bf48c4dc863",
   "metadata": {},
   "outputs": [
    {
     "data": {
      "text/plain": [
       "<Axes: xlabel='return_date'>"
      ]
     },
     "execution_count": 54,
     "metadata": {},
     "output_type": "execute_result"
    },
    {
     "data": {
      "image/png": "[encoded data removed]",
      "text/plain": [
       "<Figure size 640x480 with 1 Axes>"
      ]
     },
     "metadata": {},
     "output_type": "display_data"
    }
   ],
   "source": [
    "#Return Table\n",
    "#Return reasons distribution\n",
    "#Return trend over time\n",
    "#Return rate = (returns / sales)\n",
    "\n",
    "returns['return_reason'].value_counts().plot(kind='bar')\n",
    "returns.groupby(returns['return_date'].dt.to_period('M'))['return_id'].count().plot(kind='line')\n"
   ]
  },
  {
   "cell_type": "code",
   "execution_count": 66,
   "id": "e93de0cd-154d-48e3-95ae-af350e3d97a9",
   "metadata": {},
   "outputs": [],
   "source": [
    "from sqlalchemy import create_engine\n",
    "\n",
    "engine = create_engine(\n",
    "    \"mssql+pyodbc://@localhost/RetailSalesDB?driver=ODBC+Driver+17+for+SQL+Server\"\n",
    ")"
   ]
  },
  {
   "cell_type": "code",
   "execution_count": 70,
   "id": "2471997f-d5fc-4a05-ad7c-f7792f56c344",
   "metadata": {},
   "outputs": [
    {
     "name": "stderr",
     "output_type": "stream",
     "text": [
      "<>:6: SyntaxWarning: invalid escape sequence '\\S'\n",
      "<>:6: SyntaxWarning: invalid escape sequence '\\S'\n",
      "C:\\Users\\hp\\AppData\\Local\\Temp\\ipykernel_5504\\619438590.py:6: SyntaxWarning: invalid escape sequence '\\S'\n",
      "  'SERVER=DESKTOP-VJFQJ8V\\SQLEXPRESS;'  # Replace with your server name\n"
     ]
    },
    {
     "name": "stdout",
     "output_type": "stream",
     "text": [
      "✅ Connection successful\n"
     ]
    }
   ],
   "source": [
    "import pyodbc\n",
    "\n",
    "try:\n",
    "    conn = pyodbc.connect(\n",
    "        'DRIVER={ODBC Driver 17 for SQL Server};'\n",
    "        'SERVER=DESKTOP-VJFQJ8V\\SQLEXPRESS;' \n",
    "        'DATABASE=RetailSalesDB;'\n",
    "        'Trusted_Connection=yes;'\n",
    "    )\n",
    "    print(\"✅ Connection successful\")\n",
    "    conn.close()\n",
    "except Exception as e:\n",
    "    print(\"❌ Connection failed:\", e)\n"
   ]
  },
  {
   "cell_type": "code",
   "execution_count": 76,
   "id": "cec2abfd-fb3a-4266-b0f4-31fa6f3acc9b",
   "metadata": {},
   "outputs": [
    {
     "name": "stderr",
     "output_type": "stream",
     "text": [
      "<>:7: SyntaxWarning: invalid escape sequence '\\S'\n",
      "<>:7: SyntaxWarning: invalid escape sequence '\\S'\n",
      "C:\\Users\\hp\\AppData\\Local\\Temp\\ipykernel_5504\\564231261.py:7: SyntaxWarning: invalid escape sequence '\\S'\n",
      "  \"SERVER=DESKTOP-VJFQJ8V\\SQLEXPRESS;\"\n"
     ]
    },
    {
     "name": "stdout",
     "output_type": "stream",
     "text": [
      "✅ All cleaned tables inserted successfully!\n"
     ]
    }
   ],
   "source": [
    "from sqlalchemy import create_engine\n",
    "import urllib\n",
    "\n",
    "# SQL Server connection\n",
    "params = urllib.parse.quote_plus(\n",
    "    \"DRIVER={ODBC Driver 17 for SQL Server};\"\n",
    "    \"SERVER=DESKTOP-VJFQJ8V\\SQLEXPRESS;\"\n",
    "    \"DATABASE=RetailSalesDB;\"\n",
    "    \"Trusted_Connection=yes;\"\n",
    ")\n",
    "\n",
    "engine = create_engine(\"mssql+pyodbc:///?odbc_connect=%s\" % params)\n",
    "\n",
    "# Insert cleaned DataFrames into SQL Server\n",
    "customers.to_sql(\"Customers\", engine, if_exists=\"append\", index=False, schema=\"dbo\")\n",
    "products.to_sql(\"Products\", engine, if_exists=\"append\", index=False, schema=\"dbo\")\n",
    "sales.to_sql(\"Sales\", engine, if_exists=\"append\", index=False, schema=\"dbo\")\n",
    "returns.to_sql(\"Returns\", engine, if_exists=\"append\", index=False, schema=\"dbo\")\n",
    "stores.to_sql(\"Stores\", engine, if_exists=\"append\", index=False, schema=\"dbo\")\n",
    "\n",
    "print(\"✅ All cleaned tables inserted successfully!\")\n"
   ]
  },
  {
   "cell_type": "code",
   "execution_count": null,
   "id": "6bb23775-f96f-41e5-aecd-d2fd5ca2b3d8",
   "metadata": {},
   "outputs": [],
   "source": []
  }
 ],
 "metadata": {
  "kernelspec": {
   "display_name": "Python [conda env:anaconda3] *",
   "language": "python",
   "name": "conda-env-anaconda3-py"
  },
  "language_info": {
   "codemirror_mode": {
    "name": "ipython",
    "version": 3
   },
   "file_extension": ".py",
   "mimetype": "text/x-python",
   "name": "python",
   "nbconvert_exporter": "python",
   "pygments_lexer": "ipython3",
   "version": "3.12.7"
  }
 },
 "nbformat": 4,
 "nbformat_minor": 5
}
